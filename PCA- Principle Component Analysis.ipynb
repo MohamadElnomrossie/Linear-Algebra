{
 "cells": [
  {
   "cell_type": "code",
   "execution_count": 1,
   "metadata": {},
   "outputs": [],
   "source": [
    "import numpy as np"
   ]
  },
  {
   "cell_type": "code",
   "execution_count": 2,
   "metadata": {},
   "outputs": [],
   "source": [
    "A=np.array([[90,60,90],\n",
    "           [90,90,30],\n",
    "           [60,60,60],\n",
    "           [60,60,90],\n",
    "           [30,30,30]])\n",
    "'''You can replace this array with your feature array''';"
   ]
  },
  {
   "cell_type": "code",
   "execution_count": 3,
   "metadata": {},
   "outputs": [],
   "source": [
    "a_bar=np.mean(A,axis=0)\n",
    "'''\n",
    "calulate the mean but set the axis to be zero as there are other variations\n",
    "If axis has not been set, it will be left as None by default which leads to the sum of the whole A as one block.\n",
    "================================================================================================================\n",
    "If axis has been set to be one, it will calculate the mean of the rows, and it will retutn the mean of every row. \n",
    "This is going to be problematic as the count of the mean will be the same count of the rows. Secondly, we are supposed\n",
    "to get the mean of every columns.\n",
    "===============================================================================================================\n",
    "If axis has been set to be zero, it will return the mean of every column\n",
    "''';"
   ]
  },
  {
   "cell_type": "code",
   "execution_count": 4,
   "metadata": {},
   "outputs": [],
   "source": [
    "#Calculate the new feature matrix by subtracting the mean of every feature point\n",
    "demeaned_a=A-a_bar"
   ]
  },
  {
   "cell_type": "code",
   "execution_count": 6,
   "metadata": {},
   "outputs": [],
   "source": [
    "'''\n",
    "Compute the covariance matrix of the demeaned feature matrix. We also need to set the attribute of rowvar to be False\n",
    "to deal with every feature as a variable, but if it is set to be True, it will deal with every ROW as a variable.\n",
    "''';\n",
    "cov_demeaned_a=np.cov(demeaned_a,rowvar=False)"
   ]
  },
  {
   "cell_type": "code",
   "execution_count": 22,
   "metadata": {},
   "outputs": [],
   "source": [
    "#Calculate the eigen values and eigen vectors\n",
    "eig_values,eig_vectors=np.linalg.eigh(cov_demeaned_a,UPLO='L')"
   ]
  },
  {
   "cell_type": "code",
   "execution_count": 44,
   "metadata": {},
   "outputs": [],
   "source": [
    "'''get the index of sorting the eigen values and the eigen vectors as they have to be sorted in\n",
    "a descending order''';\n",
    "sort_index=np.argsort(eig_values)\n",
    "#sort the values in a decreasing order\n",
    "sort_index=sort_index[::-1]"
   ]
  },
  {
   "cell_type": "code",
   "execution_count": 57,
   "metadata": {},
   "outputs": [],
   "source": [
    "#sort both the eigen values and eigen vectors matirces using the index calculated in the previous cell\n",
    "eig_values_sorted=eig_values[sort_index]\n",
    "eig_vectors_sorted=eig_vectors[:,sort_index]\n",
    "#this index [:,sort_index] because we need to sort the columns"
   ]
  },
  {
   "cell_type": "code",
   "execution_count": 78,
   "metadata": {},
   "outputs": [],
   "source": [
    "#Number of components is the number of dimensions we need to have at the end after performing PCA\n",
    "# It is also the number of the sorted eign vectors we need to keep at the end\n",
    "n_components=2\n",
    "eig_vectors_subset=eig_vectors_sorted[:,:n_components]"
   ]
  },
  {
   "cell_type": "code",
   "execution_count": 79,
   "metadata": {},
   "outputs": [],
   "source": [
    "'''Compute the final reduced matrix by getting the dot product of the the demeaned feature matrix and the selected\n",
    "eigen vectors''';\n",
    "reduced_x=np.dot(demeaned_a,eig_vectors_subset)"
   ]
  },
  {
   "cell_type": "code",
   "execution_count": 80,
   "metadata": {},
   "outputs": [
    {
     "data": {
      "text/plain": [
       "array([[-34.37098481, -13.66927088],\n",
       "       [ -9.98345733,  47.68820559],\n",
       "       [  3.93481353,  -2.31599277],\n",
       "       [-14.69691716, -25.24923474],\n",
       "       [ 55.11654576,  -6.45370719]])"
      ]
     },
     "execution_count": 80,
     "metadata": {},
     "output_type": "execute_result"
    }
   ],
   "source": [
    "reduced_x"
   ]
  },
  {
   "cell_type": "code",
   "execution_count": null,
   "metadata": {},
   "outputs": [],
   "source": []
  }
 ],
 "metadata": {
  "kernelspec": {
   "display_name": "Python 3",
   "language": "python",
   "name": "python3"
  },
  "language_info": {
   "codemirror_mode": {
    "name": "ipython",
    "version": 3
   },
   "file_extension": ".py",
   "mimetype": "text/x-python",
   "name": "python",
   "nbconvert_exporter": "python",
   "pygments_lexer": "ipython3",
   "version": "3.7.4"
  }
 },
 "nbformat": 4,
 "nbformat_minor": 4
}
