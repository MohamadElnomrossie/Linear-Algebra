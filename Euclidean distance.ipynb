{
 "cells": [
  {
   "cell_type": "markdown",
   "metadata": {},
   "source": [
    "## Calculate the Euclidean distance:\n",
    "The Euclidean distance is the distance between two vectors in n_dimentional space. It correlates negatively with the similarity between the vectors being compared. In python, it is calculated as the norm of the difference between B and A, the vectors being compared\n",
    "<br><br>\n",
    "<a href=\"https://miro.medium.com/max/2678/0*ypd__pzNYEJOgHw8.png\"><img src=\"https://miro.medium.com/max/2678/0*ypd__pzNYEJOgHw8.png\" width='400' height='600'></a>\n",
    "\n",
    "<br><br>\n",
    "$$ \\begin{aligned} d(\\mathbf{A}, \\mathbf{B})=d(\\mathbf{B}, \\mathbf{A}) &=\\sqrt{\\left(A_{1}-B_{1}\\right)^{2}+\\left(A_{2}-B_{2}\\right)^{2}+\\cdots+\\left(A_{n}-B_{n}\\right)^{2}} \\\\ &=\\sqrt{\\sum_{i=1}^{n}\\left(A_{i}-B_{i}\\right)^{2}} \\end{aligned}$$\n",
    "<p style=\"font-size:12px;\" >image source: https://miro.medium.com/max/2678/0*ypd__pzNYEJOgHw8.png</p>"
   ]
  },
  {
   "cell_type": "code",
   "execution_count": 3,
   "metadata": {},
   "outputs": [],
   "source": [
    "from numpy.linalg import norm"
   ]
  },
  {
   "cell_type": "code",
   "execution_count": 7,
   "metadata": {},
   "outputs": [],
   "source": [
    "#Compute Euclidean distance\n",
    "'''\n",
    "1. compute the norm of A and B\n",
    "''';\n",
    "Eucllidean_distance=norm(B-A);"
   ]
  },
  {
   "cell_type": "code",
   "execution_count": null,
   "metadata": {},
   "outputs": [],
   "source": []
  }
 ],
 "metadata": {
  "kernelspec": {
   "display_name": "Python 3",
   "language": "python",
   "name": "python3"
  },
  "language_info": {
   "codemirror_mode": {
    "name": "ipython",
    "version": 3
   },
   "file_extension": ".py",
   "mimetype": "text/x-python",
   "name": "python",
   "nbconvert_exporter": "python",
   "pygments_lexer": "ipython3",
   "version": "3.7.4"
  }
 },
 "nbformat": 4,
 "nbformat_minor": 4
}
